{
  "nbformat": 4,
  "nbformat_minor": 0,
  "metadata": {
    "colab": {
      "provenance": [],
      "gpuType": "T4"
    },
    "kernelspec": {
      "name": "python3",
      "display_name": "Python 3"
    },
    "language_info": {
      "name": "python"
    },
    "accelerator": "GPU"
  },
  "cells": [
    {
      "cell_type": "code",
      "execution_count": null,
      "metadata": {
        "id": "A5P-egthYAXu"
      },
      "outputs": [],
      "source": [
        "import wandb\n",
        "from wandb.integration.keras import WandbMetricsLogger\n",
        "\n",
        "import tensorflow as tf\n",
        "import matplotlib.pyplot as plt\n",
        "from tensorflow import keras"
      ]
    },
    {
      "cell_type": "code",
      "source": [
        "# Sweep config for selecting experiment\n",
        "sweep_config = {\n",
        "    'method': 'grid',\n",
        "    'metric': {'name': 'val_accuracy', 'goal': 'maximize'},\n",
        "    'parameters': {\n",
        "        'batch_size': {'values': [8]},\n",
        "        'learning_rate': {'values': [0.0001]},\n",
        "        'hidden_nodes': {'values': [128]},\n",
        "        'img_size': {'values': [16]},\n",
        "        'epochs': {'values': [10]},\n",
        "        'experiment': {'values': ['dropout_only', 'batchnorm_only', 'full']}\n",
        "    }\n",
        "}\n",
        "\n",
        "sweep_id = wandb.sweep(sweep_config, project=\"5-flowers-experiments\")"
      ],
      "metadata": {
        "id": "GPS9QaKRslgw",
        "colab": {
          "base_uri": "https://localhost:8080/",
          "height": 208
        },
        "outputId": "165eea33-aee2-4268-83b5-dcce5e196ce6"
      },
      "execution_count": null,
      "outputs": [
        {
          "output_type": "stream",
          "name": "stderr",
          "text": [
            "\u001b[34m\u001b[1mwandb\u001b[0m: Using wandb-core as the SDK backend.  Please refer to https://wandb.me/wandb-core for more information.\n"
          ]
        },
        {
          "output_type": "display_data",
          "data": {
            "text/plain": [
              "<IPython.core.display.Javascript object>"
            ],
            "application/javascript": [
              "\n",
              "        window._wandbApiKey = new Promise((resolve, reject) => {\n",
              "            function loadScript(url) {\n",
              "            return new Promise(function(resolve, reject) {\n",
              "                let newScript = document.createElement(\"script\");\n",
              "                newScript.onerror = reject;\n",
              "                newScript.onload = resolve;\n",
              "                document.body.appendChild(newScript);\n",
              "                newScript.src = url;\n",
              "            });\n",
              "            }\n",
              "            loadScript(\"https://cdn.jsdelivr.net/npm/postmate/build/postmate.min.js\").then(() => {\n",
              "            const iframe = document.createElement('iframe')\n",
              "            iframe.style.cssText = \"width:0;height:0;border:none\"\n",
              "            document.body.appendChild(iframe)\n",
              "            const handshake = new Postmate({\n",
              "                container: iframe,\n",
              "                url: 'https://wandb.ai/authorize'\n",
              "            });\n",
              "            const timeout = setTimeout(() => reject(\"Couldn't auto authenticate\"), 5000)\n",
              "            handshake.then(function(child) {\n",
              "                child.on('authorize', data => {\n",
              "                    clearTimeout(timeout)\n",
              "                    resolve(data)\n",
              "                });\n",
              "            });\n",
              "            })\n",
              "        });\n",
              "    "
            ]
          },
          "metadata": {}
        },
        {
          "output_type": "stream",
          "name": "stderr",
          "text": [
            "\u001b[34m\u001b[1mwandb\u001b[0m: Logging into wandb.ai. (Learn how to deploy a W&B server locally: https://wandb.me/wandb-server)\n",
            "\u001b[34m\u001b[1mwandb\u001b[0m: You can find your API key in your browser here: https://wandb.ai/authorize\n",
            "wandb: Paste an API key from your profile and hit enter:"
          ]
        },
        {
          "name": "stdout",
          "output_type": "stream",
          "text": [
            " ··········\n"
          ]
        },
        {
          "output_type": "stream",
          "name": "stderr",
          "text": [
            "\u001b[34m\u001b[1mwandb\u001b[0m: \u001b[33mWARNING\u001b[0m If you're specifying your api key in code, ensure this code is not shared publicly.\n",
            "\u001b[34m\u001b[1mwandb\u001b[0m: \u001b[33mWARNING\u001b[0m Consider setting the WANDB_API_KEY environment variable, or running `wandb login` from the command line.\n",
            "\u001b[34m\u001b[1mwandb\u001b[0m: No netrc file found, creating one.\n",
            "\u001b[34m\u001b[1mwandb\u001b[0m: Appending key for api.wandb.ai to your netrc file: /root/.netrc\n"
          ]
        },
        {
          "output_type": "stream",
          "name": "stdout",
          "text": [
            "Create sweep with ID: wsvlncyt\n",
            "Sweep URL: https://wandb.ai/pritkudale-vizuara/5-flowers-experiments/sweeps/wsvlncyt\n"
          ]
        }
      ]
    },
    {
      "cell_type": "code",
      "source": [
        "def train():\n",
        "    with wandb.init() as run:\n",
        "        config = wandb.config\n",
        "\n",
        "        IMG_HEIGHT = config.img_size\n",
        "        IMG_WIDTH = config.img_size\n",
        "        IMG_CHANNELS = 3\n",
        "        CLASS_NAMES = [\"daisy\", \"dandelion\", \"roses\", \"sunflowers\", \"tulips\"]\n",
        "\n",
        "        def read_and_decode(filename, resize_dims):\n",
        "            img_bytes = tf.io.read_file(filename)\n",
        "            img = tf.image.decode_jpeg(img_bytes, channels=IMG_CHANNELS)\n",
        "            img = tf.image.convert_image_dtype(img, tf.float32)\n",
        "            img = tf.image.resize(img, resize_dims)\n",
        "            return img\n",
        "\n",
        "        def parse_csvline(csv_line):\n",
        "            record_default = [\"\", \"\"]\n",
        "            filename, label_string = tf.io.decode_csv(csv_line, record_default)\n",
        "            img = read_and_decode(filename, [IMG_HEIGHT, IMG_WIDTH])\n",
        "            label = tf.where(tf.equal(CLASS_NAMES, label_string))[0, 0]\n",
        "            return img, label\n",
        "\n",
        "        # Datasets\n",
        "        train_dataset = (\n",
        "            tf.data.TextLineDataset(\"gs://cloud-ml-data/img/flower_photos/train_set.csv\")\n",
        "            .map(parse_csvline, num_parallel_calls=tf.data.AUTOTUNE)\n",
        "            .batch(config.batch_size)\n",
        "            .prefetch(tf.data.AUTOTUNE)\n",
        "        )\n",
        "\n",
        "        eval_dataset = (\n",
        "            tf.data.TextLineDataset(\"gs://cloud-ml-data/img/flower_photos/eval_set.csv\")\n",
        "            .map(parse_csvline, num_parallel_calls=tf.data.AUTOTUNE)\n",
        "            .batch(config.batch_size)\n",
        "            .prefetch(tf.data.AUTOTUNE)\n",
        "        )\n",
        "\n",
        "        # Build model\n",
        "        model = keras.Sequential()\n",
        "        model.add(keras.layers.Flatten(input_shape=(IMG_HEIGHT, IMG_WIDTH, IMG_CHANNELS)))\n",
        "\n",
        "        if config.experiment == 'batchnorm_only':\n",
        "            model.add(keras.layers.Dense(config.hidden_nodes, use_bias=False))\n",
        "            model.add(keras.layers.BatchNormalization())\n",
        "            model.add(keras.layers.Activation(\"relu\"))\n",
        "\n",
        "        elif config.experiment == 'dropout_only':\n",
        "            model.add(keras.layers.Dense(config.hidden_nodes, activation=\"relu\"))\n",
        "            model.add(keras.layers.Dropout(0.5))\n",
        "\n",
        "        elif config.experiment == 'full':\n",
        "            model.add(keras.layers.Dense(config.hidden_nodes,\n",
        "                                          kernel_regularizer=keras.regularizers.l2(0.01),\n",
        "                                          use_bias=False))\n",
        "            model.add(keras.layers.BatchNormalization())\n",
        "            model.add(keras.layers.Activation(\"relu\"))\n",
        "            model.add(keras.layers.Dropout(0.5))\n",
        "\n",
        "        model.add(keras.layers.Dense(len(CLASS_NAMES), activation=\"softmax\"))\n",
        "\n",
        "        # Compile\n",
        "        model.compile(\n",
        "            optimizer=keras.optimizers.Adam(learning_rate=config.learning_rate),\n",
        "            loss=tf.keras.losses.SparseCategoricalCrossentropy(from_logits=False),\n",
        "            metrics=[\"accuracy\"]\n",
        "        )\n",
        "\n",
        "        # Train\n",
        "        callbacks = [WandbMetricsLogger(log_freq=5)]\n",
        "        if config.experiment == 'full':\n",
        "            callbacks.append(tf.keras.callbacks.EarlyStopping(monitor='val_loss', patience=3, restore_best_weights=True))\n",
        "\n",
        "        model.fit(\n",
        "            train_dataset,\n",
        "            validation_data=eval_dataset,\n",
        "            epochs=config.epochs,\n",
        "            callbacks=callbacks\n",
        "        )"
      ],
      "metadata": {
        "id": "9jQcBQhrwj3o"
      },
      "execution_count": null,
      "outputs": []
    },
    {
      "cell_type": "code",
      "source": [
        "wandb.agent(sweep_id, function=train)"
      ],
      "metadata": {
        "id": "PxlnkgNKsPty",
        "colab": {
          "base_uri": "https://localhost:8080/",
          "height": 1000
        },
        "outputId": "a090558f-2f25-44a9-96e0-891e45f7d204"
      },
      "execution_count": null,
      "outputs": [
        {
          "metadata": {
            "tags": null
          },
          "name": "stderr",
          "output_type": "stream",
          "text": [
            "\u001b[34m\u001b[1mwandb\u001b[0m: Agent Starting Run: 7zn5m4dj with config:\n",
            "\u001b[34m\u001b[1mwandb\u001b[0m: \tbatch_size: 8\n",
            "\u001b[34m\u001b[1mwandb\u001b[0m: \tepochs: 10\n",
            "\u001b[34m\u001b[1mwandb\u001b[0m: \texperiment: dropout_only\n",
            "\u001b[34m\u001b[1mwandb\u001b[0m: \thidden_nodes: 128\n",
            "\u001b[34m\u001b[1mwandb\u001b[0m: \timg_size: 16\n",
            "\u001b[34m\u001b[1mwandb\u001b[0m: \tlearning_rate: 0.0001\n",
            "\u001b[34m\u001b[1mwandb\u001b[0m: Currently logged in as: \u001b[33mvizuara-info\u001b[0m (\u001b[33mpritkudale-vizuara\u001b[0m) to \u001b[32mhttps://api.wandb.ai\u001b[0m. Use \u001b[1m`wandb login --relogin`\u001b[0m to force relogin\n"
          ]
        },
        {
          "data": {
            "text/html": [
              "Tracking run with wandb version 0.19.9"
            ],
            "text/plain": [
              "<IPython.core.display.HTML object>"
            ]
          },
          "metadata": {},
          "output_type": "display_data"
        },
        {
          "data": {
            "text/html": [
              "Run data is saved locally in <code>/content/wandb/run-20250423_035550-7zn5m4dj</code>"
            ],
            "text/plain": [
              "<IPython.core.display.HTML object>"
            ]
          },
          "metadata": {},
          "output_type": "display_data"
        },
        {
          "data": {
            "text/html": [
              "Syncing run <strong><a href='https://wandb.ai/pritkudale-vizuara/5-flowers-experiments/runs/7zn5m4dj' target=\"_blank\">glad-sweep-1</a></strong> to <a href='https://wandb.ai/pritkudale-vizuara/5-flowers-experiments' target=\"_blank\">Weights & Biases</a> (<a href='https://wandb.me/developer-guide' target=\"_blank\">docs</a>)<br>Sweep page: <a href='https://wandb.ai/pritkudale-vizuara/5-flowers-experiments/sweeps/wsvlncyt' target=\"_blank\">https://wandb.ai/pritkudale-vizuara/5-flowers-experiments/sweeps/wsvlncyt</a>"
            ],
            "text/plain": [
              "<IPython.core.display.HTML object>"
            ]
          },
          "metadata": {},
          "output_type": "display_data"
        },
        {
          "data": {
            "text/html": [
              " View project at <a href='https://wandb.ai/pritkudale-vizuara/5-flowers-experiments' target=\"_blank\">https://wandb.ai/pritkudale-vizuara/5-flowers-experiments</a>"
            ],
            "text/plain": [
              "<IPython.core.display.HTML object>"
            ]
          },
          "metadata": {},
          "output_type": "display_data"
        },
        {
          "data": {
            "text/html": [
              " View sweep at <a href='https://wandb.ai/pritkudale-vizuara/5-flowers-experiments/sweeps/wsvlncyt' target=\"_blank\">https://wandb.ai/pritkudale-vizuara/5-flowers-experiments/sweeps/wsvlncyt</a>"
            ],
            "text/plain": [
              "<IPython.core.display.HTML object>"
            ]
          },
          "metadata": {},
          "output_type": "display_data"
        },
        {
          "data": {
            "text/html": [
              " View run at <a href='https://wandb.ai/pritkudale-vizuara/5-flowers-experiments/runs/7zn5m4dj' target=\"_blank\">https://wandb.ai/pritkudale-vizuara/5-flowers-experiments/runs/7zn5m4dj</a>"
            ],
            "text/plain": [
              "<IPython.core.display.HTML object>"
            ]
          },
          "metadata": {},
          "output_type": "display_data"
        },
        {
          "metadata": {
            "tags": null
          },
          "name": "stderr",
          "output_type": "stream",
          "text": [
            "/usr/local/lib/python3.11/dist-packages/keras/src/layers/reshaping/flatten.py:37: UserWarning: Do not pass an `input_shape`/`input_dim` argument to a layer. When using Sequential models, prefer using an `Input(shape)` object as the first layer in the model instead.\n",
            "  super().__init__(**kwargs)\n"
          ]
        },
        {
          "metadata": {
            "tags": null
          },
          "name": "stdout",
          "output_type": "stream",
          "text": [
            "Epoch 1/10\n",
            "    413/Unknown \u001b[1m186s\u001b[0m 442ms/step - accuracy: 0.2629 - loss: 1.6553"
          ]
        },
        {
          "metadata": {
            "tags": null
          },
          "name": "stderr",
          "output_type": "stream",
          "text": [
            "/usr/local/lib/python3.11/dist-packages/keras/src/trainers/epoch_iterator.py:151: UserWarning: Your input ran out of data; interrupting training. Make sure that your dataset or generator can generate at least `steps_per_epoch * epochs` batches. You may need to use the `.repeat()` function when building your dataset.\n",
            "  self._interrupted_warning()\n"
          ]
        },
        {
          "metadata": {
            "tags": null
          },
          "name": "stdout",
          "output_type": "stream",
          "text": [
            "\u001b[1m413/413\u001b[0m \u001b[32m━━━━━━━━━━━━━━━━━━━━\u001b[0m\u001b[37m\u001b[0m \u001b[1m207s\u001b[0m 494ms/step - accuracy: 0.2630 - loss: 1.6552 - val_accuracy: 0.3973 - val_loss: 1.4265\n",
            "Epoch 2/10\n",
            "\u001b[1m413/413\u001b[0m \u001b[32m━━━━━━━━━━━━━━━━━━━━\u001b[0m\u001b[37m\u001b[0m \u001b[1m255s\u001b[0m 483ms/step - accuracy: 0.3627 - loss: 1.4486 - val_accuracy: 0.4189 - val_loss: 1.3531\n",
            "Epoch 3/10\n",
            "\u001b[1m413/413\u001b[0m \u001b[32m━━━━━━━━━━━━━━━━━━━━\u001b[0m\u001b[37m\u001b[0m \u001b[1m139s\u001b[0m 330ms/step - accuracy: 0.3986 - loss: 1.3863 - val_accuracy: 0.4243 - val_loss: 1.3153\n",
            "Epoch 4/10\n",
            "\u001b[1m413/413\u001b[0m \u001b[32m━━━━━━━━━━━━━━━━━━━━\u001b[0m\u001b[37m\u001b[0m \u001b[1m115s\u001b[0m 265ms/step - accuracy: 0.4268 - loss: 1.3479 - val_accuracy: 0.4216 - val_loss: 1.2856\n",
            "Epoch 5/10\n",
            "\u001b[1m413/413\u001b[0m \u001b[32m━━━━━━━━━━━━━━━━━━━━\u001b[0m\u001b[37m\u001b[0m \u001b[1m141s\u001b[0m 263ms/step - accuracy: 0.4176 - loss: 1.3222 - val_accuracy: 0.4405 - val_loss: 1.2799\n",
            "Epoch 6/10\n",
            "\u001b[1m413/413\u001b[0m \u001b[32m━━━━━━━━━━━━━━━━━━━━\u001b[0m\u001b[37m\u001b[0m \u001b[1m143s\u001b[0m 265ms/step - accuracy: 0.4488 - loss: 1.3061 - val_accuracy: 0.4514 - val_loss: 1.2603\n",
            "Epoch 7/10\n",
            "\u001b[1m413/413\u001b[0m \u001b[32m━━━━━━━━━━━━━━━━━━━━\u001b[0m\u001b[37m\u001b[0m \u001b[1m131s\u001b[0m 238ms/step - accuracy: 0.4601 - loss: 1.2682 - val_accuracy: 0.4703 - val_loss: 1.2393\n",
            "Epoch 8/10\n",
            "\u001b[1m413/413\u001b[0m \u001b[32m━━━━━━━━━━━━━━━━━━━━\u001b[0m\u001b[37m\u001b[0m \u001b[1m141s\u001b[0m 237ms/step - accuracy: 0.4718 - loss: 1.2595 - val_accuracy: 0.4676 - val_loss: 1.2335\n",
            "Epoch 9/10\n",
            "\u001b[1m413/413\u001b[0m \u001b[32m━━━━━━━━━━━━━━━━━━━━\u001b[0m\u001b[37m\u001b[0m \u001b[1m201s\u001b[0m 381ms/step - accuracy: 0.4628 - loss: 1.2447 - val_accuracy: 0.4892 - val_loss: 1.2123\n",
            "Epoch 10/10\n",
            "\u001b[1m413/413\u001b[0m \u001b[32m━━━━━━━━━━━━━━━━━━━━\u001b[0m\u001b[37m\u001b[0m \u001b[1m142s\u001b[0m 345ms/step - accuracy: 0.4853 - loss: 1.2253 - val_accuracy: 0.4865 - val_loss: 1.2156\n"
          ]
        },
        {
          "data": {
            "text/html": [],
            "text/plain": [
              "<IPython.core.display.HTML object>"
            ]
          },
          "metadata": {},
          "output_type": "display_data"
        },
        {
          "data": {
            "text/html": [
              "<br>    <style><br>        .wandb-row {<br>            display: flex;<br>            flex-direction: row;<br>            flex-wrap: wrap;<br>            justify-content: flex-start;<br>            width: 100%;<br>        }<br>        .wandb-col {<br>            display: flex;<br>            flex-direction: column;<br>            flex-basis: 100%;<br>            flex: 1;<br>            padding: 10px;<br>        }<br>    </style><br><div class=\"wandb-row\"><div class=\"wandb-col\"><h3>Run history:</h3><br/><table class=\"wandb\"><tr><td>batch/accuracy</td><td>▁▂▂▄▅▅▅▅▅▅▅▆▅▆▆▅▅▆▆▆▆▆▆▇▆▇▅▆▆▅▆▇▇▇▇█▇▇▇▇</td></tr><tr><td>batch/batch_step</td><td>▁▁▁▁▁▂▂▂▂▂▂▂▂▂▂▃▃▃▄▄▄▄▄▄▄▅▅▅▆▆▆▆▆▆▇▇▇███</td></tr><tr><td>batch/learning_rate</td><td>▁▁▁▁▁▁▁▁▁▁▁▁▁▁▁▁▁▁▁▁▁▁▁▁▁▁▁▁▁▁▁▁▁▁▁▁▁▁▁▁</td></tr><tr><td>batch/loss</td><td>█▇▇▅▅▄▄▄▃▃▃▃▃▃▂▃▂▂▂▂▂▂▂▂▂▂▁▂▂▂▁▂▁▁▁▁▁▁▁▁</td></tr><tr><td>epoch/accuracy</td><td>▁▄▅▆▆▇▇███</td></tr><tr><td>epoch/epoch</td><td>▁▂▃▃▄▅▆▆▇█</td></tr><tr><td>epoch/learning_rate</td><td>▁▁▁▁▁▁▁▁▁▁</td></tr><tr><td>epoch/loss</td><td>█▅▄▃▃▂▂▁▁▁</td></tr><tr><td>epoch/val_accuracy</td><td>▁▃▃▃▄▅▇▆██</td></tr><tr><td>epoch/val_loss</td><td>█▆▄▃▃▃▂▂▁▁</td></tr></table><br/></div><div class=\"wandb-col\"><h3>Run summary:</h3><br/><table class=\"wandb\"><tr><td>batch/accuracy</td><td>0.48662</td></tr><tr><td>batch/batch_step</td><td>4145</td></tr><tr><td>batch/learning_rate</td><td>0.0001</td></tr><tr><td>batch/loss</td><td>1.22522</td></tr><tr><td>epoch/accuracy</td><td>0.48636</td></tr><tr><td>epoch/epoch</td><td>9</td></tr><tr><td>epoch/learning_rate</td><td>0.0001</td></tr><tr><td>epoch/loss</td><td>1.22593</td></tr><tr><td>epoch/val_accuracy</td><td>0.48649</td></tr><tr><td>epoch/val_loss</td><td>1.21564</td></tr></table><br/></div></div>"
            ],
            "text/plain": [
              "<IPython.core.display.HTML object>"
            ]
          },
          "metadata": {},
          "output_type": "display_data"
        },
        {
          "data": {
            "text/html": [
              " View run <strong style=\"color:#cdcd00\">glad-sweep-1</strong> at: <a href='https://wandb.ai/pritkudale-vizuara/5-flowers-experiments/runs/7zn5m4dj' target=\"_blank\">https://wandb.ai/pritkudale-vizuara/5-flowers-experiments/runs/7zn5m4dj</a><br> View project at: <a href='https://wandb.ai/pritkudale-vizuara/5-flowers-experiments' target=\"_blank\">https://wandb.ai/pritkudale-vizuara/5-flowers-experiments</a><br>Synced 5 W&B file(s), 0 media file(s), 0 artifact file(s) and 0 other file(s)"
            ],
            "text/plain": [
              "<IPython.core.display.HTML object>"
            ]
          },
          "metadata": {},
          "output_type": "display_data"
        },
        {
          "data": {
            "text/html": [
              "Find logs at: <code>./wandb/run-20250423_035550-7zn5m4dj/logs</code>"
            ],
            "text/plain": [
              "<IPython.core.display.HTML object>"
            ]
          },
          "metadata": {},
          "output_type": "display_data"
        },
        {
          "metadata": {
            "tags": null
          },
          "name": "stderr",
          "output_type": "stream",
          "text": [
            "\u001b[34m\u001b[1mwandb\u001b[0m: Agent Starting Run: 5af72cm5 with config:\n",
            "\u001b[34m\u001b[1mwandb\u001b[0m: \tbatch_size: 8\n",
            "\u001b[34m\u001b[1mwandb\u001b[0m: \tepochs: 10\n",
            "\u001b[34m\u001b[1mwandb\u001b[0m: \texperiment: batchnorm_only\n",
            "\u001b[34m\u001b[1mwandb\u001b[0m: \thidden_nodes: 128\n",
            "\u001b[34m\u001b[1mwandb\u001b[0m: \timg_size: 16\n",
            "\u001b[34m\u001b[1mwandb\u001b[0m: \tlearning_rate: 0.0001\n"
          ]
        },
        {
          "data": {
            "text/html": [
              "Tracking run with wandb version 0.19.9"
            ],
            "text/plain": [
              "<IPython.core.display.HTML object>"
            ]
          },
          "metadata": {},
          "output_type": "display_data"
        },
        {
          "data": {
            "text/html": [
              "Run data is saved locally in <code>/content/wandb/run-20250423_042354-5af72cm5</code>"
            ],
            "text/plain": [
              "<IPython.core.display.HTML object>"
            ]
          },
          "metadata": {},
          "output_type": "display_data"
        },
        {
          "data": {
            "text/html": [
              "Syncing run <strong><a href='https://wandb.ai/pritkudale-vizuara/5-flowers-experiments/runs/5af72cm5' target=\"_blank\">fresh-sweep-2</a></strong> to <a href='https://wandb.ai/pritkudale-vizuara/5-flowers-experiments' target=\"_blank\">Weights & Biases</a> (<a href='https://wandb.me/developer-guide' target=\"_blank\">docs</a>)<br>Sweep page: <a href='https://wandb.ai/pritkudale-vizuara/5-flowers-experiments/sweeps/wsvlncyt' target=\"_blank\">https://wandb.ai/pritkudale-vizuara/5-flowers-experiments/sweeps/wsvlncyt</a>"
            ],
            "text/plain": [
              "<IPython.core.display.HTML object>"
            ]
          },
          "metadata": {},
          "output_type": "display_data"
        },
        {
          "data": {
            "text/html": [
              " View project at <a href='https://wandb.ai/pritkudale-vizuara/5-flowers-experiments' target=\"_blank\">https://wandb.ai/pritkudale-vizuara/5-flowers-experiments</a>"
            ],
            "text/plain": [
              "<IPython.core.display.HTML object>"
            ]
          },
          "metadata": {},
          "output_type": "display_data"
        },
        {
          "data": {
            "text/html": [
              " View sweep at <a href='https://wandb.ai/pritkudale-vizuara/5-flowers-experiments/sweeps/wsvlncyt' target=\"_blank\">https://wandb.ai/pritkudale-vizuara/5-flowers-experiments/sweeps/wsvlncyt</a>"
            ],
            "text/plain": [
              "<IPython.core.display.HTML object>"
            ]
          },
          "metadata": {},
          "output_type": "display_data"
        },
        {
          "data": {
            "text/html": [
              " View run at <a href='https://wandb.ai/pritkudale-vizuara/5-flowers-experiments/runs/5af72cm5' target=\"_blank\">https://wandb.ai/pritkudale-vizuara/5-flowers-experiments/runs/5af72cm5</a>"
            ],
            "text/plain": [
              "<IPython.core.display.HTML object>"
            ]
          },
          "metadata": {},
          "output_type": "display_data"
        },
        {
          "output_type": "stream",
          "name": "stdout",
          "text": [
            "Epoch 1/10\n",
            "\u001b[1m413/413\u001b[0m \u001b[32m━━━━━━━━━━━━━━━━━━━━\u001b[0m\u001b[37m\u001b[0m \u001b[1m97s\u001b[0m 231ms/step - accuracy: 0.3119 - loss: 1.5831 - val_accuracy: 0.4216 - val_loss: 1.3162\n",
            "Epoch 2/10\n",
            "\u001b[1m413/413\u001b[0m \u001b[32m━━━━━━━━━━━━━━━━━━━━\u001b[0m\u001b[37m\u001b[0m \u001b[1m140s\u001b[0m 228ms/step - accuracy: 0.4664 - loss: 1.2643 - val_accuracy: 0.4568 - val_loss: 1.2630\n",
            "Epoch 3/10\n",
            "\u001b[1m413/413\u001b[0m \u001b[32m━━━━━━━━━━━━━━━━━━━━\u001b[0m\u001b[37m\u001b[0m \u001b[1m143s\u001b[0m 229ms/step - accuracy: 0.5288 - loss: 1.1541 - val_accuracy: 0.4649 - val_loss: 1.2446\n",
            "Epoch 4/10\n",
            "\u001b[1m413/413\u001b[0m \u001b[32m━━━━━━━━━━━━━━━━━━━━\u001b[0m\u001b[37m\u001b[0m \u001b[1m142s\u001b[0m 231ms/step - accuracy: 0.5762 - loss: 1.0738 - val_accuracy: 0.4703 - val_loss: 1.2401\n",
            "Epoch 5/10\n",
            "\u001b[1m413/413\u001b[0m \u001b[32m━━━━━━━━━━━━━━━━━━━━\u001b[0m\u001b[37m\u001b[0m \u001b[1m93s\u001b[0m 225ms/step - accuracy: 0.6137 - loss: 1.0064 - val_accuracy: 0.4703 - val_loss: 1.2461\n",
            "Epoch 6/10\n",
            "\u001b[1m413/413\u001b[0m \u001b[32m━━━━━━━━━━━━━━━━━━━━\u001b[0m\u001b[37m\u001b[0m \u001b[1m201s\u001b[0m 368ms/step - accuracy: 0.6554 - loss: 0.9464 - val_accuracy: 0.4703 - val_loss: 1.2433\n",
            "Epoch 7/10\n",
            "\u001b[1m413/413\u001b[0m \u001b[32m━━━━━━━━━━━━━━━━━━━━\u001b[0m\u001b[37m\u001b[0m \u001b[1m145s\u001b[0m 229ms/step - accuracy: 0.6884 - loss: 0.8907 - val_accuracy: 0.4784 - val_loss: 1.2501\n",
            "Epoch 8/10\n",
            "\u001b[1m413/413\u001b[0m \u001b[32m━━━━━━━━━━━━━━━━━━━━\u001b[0m\u001b[37m\u001b[0m \u001b[1m141s\u001b[0m 228ms/step - accuracy: 0.7198 - loss: 0.8384 - val_accuracy: 0.4865 - val_loss: 1.2523\n",
            "Epoch 9/10\n",
            "\u001b[1m413/413\u001b[0m \u001b[32m━━━━━━━━━━━━━━━━━━━━\u001b[0m\u001b[37m\u001b[0m \u001b[1m141s\u001b[0m 226ms/step - accuracy: 0.7574 - loss: 0.7890 - val_accuracy: 0.4892 - val_loss: 1.2590\n",
            "Epoch 10/10\n",
            "\u001b[1m413/413\u001b[0m \u001b[32m━━━━━━━━━━━━━━━━━━━━\u001b[0m\u001b[37m\u001b[0m \u001b[1m143s\u001b[0m 229ms/step - accuracy: 0.7841 - loss: 0.7416 - val_accuracy: 0.4676 - val_loss: 1.2715\n"
          ]
        },
        {
          "output_type": "display_data",
          "data": {
            "text/plain": [
              "<IPython.core.display.HTML object>"
            ],
            "text/html": []
          },
          "metadata": {}
        },
        {
          "output_type": "display_data",
          "data": {
            "text/plain": [
              "<IPython.core.display.HTML object>"
            ],
            "text/html": [
              "<br>    <style><br>        .wandb-row {<br>            display: flex;<br>            flex-direction: row;<br>            flex-wrap: wrap;<br>            justify-content: flex-start;<br>            width: 100%;<br>        }<br>        .wandb-col {<br>            display: flex;<br>            flex-direction: column;<br>            flex-basis: 100%;<br>            flex: 1;<br>            padding: 10px;<br>        }<br>    </style><br><div class=\"wandb-row\"><div class=\"wandb-col\"><h3>Run history:</h3><br/><table class=\"wandb\"><tr><td>batch/accuracy</td><td>▁▂▂▃▃▃▄▄▄▄▄▅▅▅▅▅▅▆▆▆▆▆▆▆▆▇▇▇▇▇▇▇▇▇███▇██</td></tr><tr><td>batch/batch_step</td><td>▁▁▁▁▂▂▂▂▂▂▂▃▃▃▃▃▃▃▃▃▄▄▄▅▅▆▆▆▆▆▇▇▇▇▇▇▇███</td></tr><tr><td>batch/learning_rate</td><td>▁▁▁▁▁▁▁▁▁▁▁▁▁▁▁▁▁▁▁▁▁▁▁▁▁▁▁▁▁▁▁▁▁▁▁▁▁▁▁▁</td></tr><tr><td>batch/loss</td><td>███▇▄▅▅▅▄▄▅▄▄▄▄▃▃▃▃▃▃▃▃▃▃▂▂▂▂▂▂▁▁▁▁▁▁▁▁▁</td></tr><tr><td>epoch/accuracy</td><td>▁▃▄▅▅▆▇▇██</td></tr><tr><td>epoch/epoch</td><td>▁▂▃▃▄▅▆▆▇█</td></tr><tr><td>epoch/learning_rate</td><td>▁▁▁▁▁▁▁▁▁▁</td></tr><tr><td>epoch/loss</td><td>█▆▅▄▃▃▂▂▁▁</td></tr><tr><td>epoch/val_accuracy</td><td>▁▅▅▆▆▆▇██▆</td></tr><tr><td>epoch/val_loss</td><td>█▃▁▁▂▁▂▂▃▄</td></tr></table><br/></div><div class=\"wandb-col\"><h3>Run summary:</h3><br/><table class=\"wandb\"><tr><td>batch/accuracy</td><td>0.78133</td></tr><tr><td>batch/batch_step</td><td>4145</td></tr><tr><td>batch/learning_rate</td><td>0.0001</td></tr><tr><td>batch/loss</td><td>0.74799</td></tr><tr><td>epoch/accuracy</td><td>0.78152</td></tr><tr><td>epoch/epoch</td><td>9</td></tr><tr><td>epoch/learning_rate</td><td>0.0001</td></tr><tr><td>epoch/loss</td><td>0.7476</td></tr><tr><td>epoch/val_accuracy</td><td>0.46757</td></tr><tr><td>epoch/val_loss</td><td>1.27152</td></tr></table><br/></div></div>"
            ]
          },
          "metadata": {}
        },
        {
          "output_type": "display_data",
          "data": {
            "text/plain": [
              "<IPython.core.display.HTML object>"
            ],
            "text/html": [
              " View run <strong style=\"color:#cdcd00\">fresh-sweep-2</strong> at: <a href='https://wandb.ai/pritkudale-vizuara/5-flowers-experiments/runs/5af72cm5' target=\"_blank\">https://wandb.ai/pritkudale-vizuara/5-flowers-experiments/runs/5af72cm5</a><br> View project at: <a href='https://wandb.ai/pritkudale-vizuara/5-flowers-experiments' target=\"_blank\">https://wandb.ai/pritkudale-vizuara/5-flowers-experiments</a><br>Synced 5 W&B file(s), 0 media file(s), 0 artifact file(s) and 0 other file(s)"
            ]
          },
          "metadata": {}
        },
        {
          "output_type": "display_data",
          "data": {
            "text/plain": [
              "<IPython.core.display.HTML object>"
            ],
            "text/html": [
              "Find logs at: <code>./wandb/run-20250423_042354-5af72cm5/logs</code>"
            ]
          },
          "metadata": {}
        },
        {
          "output_type": "stream",
          "name": "stderr",
          "text": [
            "\u001b[34m\u001b[1mwandb\u001b[0m: Agent Starting Run: wiity0xq with config:\n",
            "\u001b[34m\u001b[1mwandb\u001b[0m: \tbatch_size: 8\n",
            "\u001b[34m\u001b[1mwandb\u001b[0m: \tepochs: 10\n",
            "\u001b[34m\u001b[1mwandb\u001b[0m: \texperiment: full\n",
            "\u001b[34m\u001b[1mwandb\u001b[0m: \thidden_nodes: 128\n",
            "\u001b[34m\u001b[1mwandb\u001b[0m: \timg_size: 16\n",
            "\u001b[34m\u001b[1mwandb\u001b[0m: \tlearning_rate: 0.0001\n"
          ]
        },
        {
          "output_type": "display_data",
          "data": {
            "text/plain": [
              "<IPython.core.display.HTML object>"
            ],
            "text/html": [
              "Tracking run with wandb version 0.19.9"
            ]
          },
          "metadata": {}
        },
        {
          "output_type": "display_data",
          "data": {
            "text/plain": [
              "<IPython.core.display.HTML object>"
            ],
            "text/html": [
              "Run data is saved locally in <code>/content/wandb/run-20250423_044757-wiity0xq</code>"
            ]
          },
          "metadata": {}
        },
        {
          "output_type": "display_data",
          "data": {
            "text/plain": [
              "<IPython.core.display.HTML object>"
            ],
            "text/html": [
              "Syncing run <strong><a href='https://wandb.ai/pritkudale-vizuara/5-flowers-experiments/runs/wiity0xq' target=\"_blank\">absurd-sweep-3</a></strong> to <a href='https://wandb.ai/pritkudale-vizuara/5-flowers-experiments' target=\"_blank\">Weights & Biases</a> (<a href='https://wandb.me/developer-guide' target=\"_blank\">docs</a>)<br>Sweep page: <a href='https://wandb.ai/pritkudale-vizuara/5-flowers-experiments/sweeps/wsvlncyt' target=\"_blank\">https://wandb.ai/pritkudale-vizuara/5-flowers-experiments/sweeps/wsvlncyt</a>"
            ]
          },
          "metadata": {}
        },
        {
          "output_type": "display_data",
          "data": {
            "text/plain": [
              "<IPython.core.display.HTML object>"
            ],
            "text/html": [
              " View project at <a href='https://wandb.ai/pritkudale-vizuara/5-flowers-experiments' target=\"_blank\">https://wandb.ai/pritkudale-vizuara/5-flowers-experiments</a>"
            ]
          },
          "metadata": {}
        },
        {
          "output_type": "display_data",
          "data": {
            "text/plain": [
              "<IPython.core.display.HTML object>"
            ],
            "text/html": [
              " View sweep at <a href='https://wandb.ai/pritkudale-vizuara/5-flowers-experiments/sweeps/wsvlncyt' target=\"_blank\">https://wandb.ai/pritkudale-vizuara/5-flowers-experiments/sweeps/wsvlncyt</a>"
            ]
          },
          "metadata": {}
        },
        {
          "output_type": "display_data",
          "data": {
            "text/plain": [
              "<IPython.core.display.HTML object>"
            ],
            "text/html": [
              " View run at <a href='https://wandb.ai/pritkudale-vizuara/5-flowers-experiments/runs/wiity0xq' target=\"_blank\">https://wandb.ai/pritkudale-vizuara/5-flowers-experiments/runs/wiity0xq</a>"
            ]
          },
          "metadata": {}
        },
        {
          "output_type": "stream",
          "name": "stdout",
          "text": [
            "Epoch 1/10\n",
            "\u001b[1m413/413\u001b[0m \u001b[32m━━━━━━━━━━━━━━━━━━━━\u001b[0m\u001b[37m\u001b[0m \u001b[1m95s\u001b[0m 225ms/step - accuracy: 0.2408 - loss: 4.1889 - val_accuracy: 0.3919 - val_loss: 3.4887\n",
            "Epoch 2/10\n",
            "\u001b[1m413/413\u001b[0m \u001b[32m━━━━━━━━━━━━━━━━━━━━\u001b[0m\u001b[37m\u001b[0m \u001b[1m93s\u001b[0m 225ms/step - accuracy: 0.3459 - loss: 3.6835 - val_accuracy: 0.4297 - val_loss: 3.2795\n",
            "Epoch 3/10\n",
            "\u001b[1m413/413\u001b[0m \u001b[32m━━━━━━━━━━━━━━━━━━━━\u001b[0m\u001b[37m\u001b[0m \u001b[1m140s\u001b[0m 220ms/step - accuracy: 0.4029 - loss: 3.4019 - val_accuracy: 0.4676 - val_loss: 3.1398\n",
            "Epoch 4/10\n",
            "\u001b[1m413/413\u001b[0m \u001b[32m━━━━━━━━━━━━━━━━━━━━\u001b[0m\u001b[37m\u001b[0m \u001b[1m142s\u001b[0m 220ms/step - accuracy: 0.4376 - loss: 3.2195 - val_accuracy: 0.4595 - val_loss: 3.0251\n",
            "Epoch 5/10\n",
            "\u001b[1m413/413\u001b[0m \u001b[32m━━━━━━━━━━━━━━━━━━━━\u001b[0m\u001b[37m\u001b[0m \u001b[1m141s\u001b[0m 341ms/step - accuracy: 0.4425 - loss: 3.0687 - val_accuracy: 0.4919 - val_loss: 2.9009\n",
            "Epoch 6/10\n",
            "\u001b[1m413/413\u001b[0m \u001b[32m━━━━━━━━━━━━━━━━━━━━\u001b[0m\u001b[37m\u001b[0m \u001b[1m142s\u001b[0m 341ms/step - accuracy: 0.4867 - loss: 2.8912 - val_accuracy: 0.4703 - val_loss: 2.8222\n",
            "Epoch 7/10\n",
            "\u001b[1m413/413\u001b[0m \u001b[32m━━━━━━━━━━━━━━━━━━━━\u001b[0m\u001b[37m\u001b[0m \u001b[1m145s\u001b[0m 348ms/step - accuracy: 0.5025 - loss: 2.7646 - val_accuracy: 0.4622 - val_loss: 2.7452\n",
            "Epoch 8/10\n",
            "\u001b[1m413/413\u001b[0m \u001b[32m━━━━━━━━━━━━━━━━━━━━\u001b[0m\u001b[37m\u001b[0m \u001b[1m200s\u001b[0m 343ms/step - accuracy: 0.4921 - loss: 2.6467 - val_accuracy: 0.4892 - val_loss: 2.5900\n",
            "Epoch 9/10\n",
            "\u001b[1m413/413\u001b[0m \u001b[32m━━━━━━━━━━━━━━━━━━━━\u001b[0m\u001b[37m\u001b[0m \u001b[1m142s\u001b[0m 342ms/step - accuracy: 0.5179 - loss: 2.5179 - val_accuracy: 0.4946 - val_loss: 2.5531\n",
            "Epoch 10/10\n",
            "\u001b[1m413/413\u001b[0m \u001b[32m━━━━━━━━━━━━━━━━━━━━\u001b[0m\u001b[37m\u001b[0m \u001b[1m141s\u001b[0m 341ms/step - accuracy: 0.5447 - loss: 2.3938 - val_accuracy: 0.4595 - val_loss: 2.5128\n"
          ]
        },
        {
          "output_type": "display_data",
          "data": {
            "text/plain": [
              "<IPython.core.display.HTML object>"
            ],
            "text/html": []
          },
          "metadata": {}
        },
        {
          "output_type": "display_data",
          "data": {
            "text/plain": [
              "<IPython.core.display.HTML object>"
            ],
            "text/html": [
              "<br>    <style><br>        .wandb-row {<br>            display: flex;<br>            flex-direction: row;<br>            flex-wrap: wrap;<br>            justify-content: flex-start;<br>            width: 100%;<br>        }<br>        .wandb-col {<br>            display: flex;<br>            flex-direction: column;<br>            flex-basis: 100%;<br>            flex: 1;<br>            padding: 10px;<br>        }<br>    </style><br><div class=\"wandb-row\"><div class=\"wandb-col\"><h3>Run history:</h3><br/><table class=\"wandb\"><tr><td>batch/accuracy</td><td>▁▁▂▂▂▄▄▄▅▅▅▅▆▆▆▆▆▅▆▆▇▇▇▇▇▇▇▇▅▇▇▇▇▇▇▇▇▇██</td></tr><tr><td>batch/batch_step</td><td>▁▁▁▂▂▂▂▂▂▃▃▃▃▃▃▄▄▄▄▄▄▅▅▅▅▆▆▆▆▆▆▇▇▇▇█████</td></tr><tr><td>batch/learning_rate</td><td>▁▁▁▁▁▁▁▁▁▁▁▁▁▁▁▁▁▁▁▁▁▁▁▁▁▁▁▁▁▁▁▁▁▁▁▁▁▁▁▁</td></tr><tr><td>batch/loss</td><td>██▇▇▇▆▆▆▆▆▅▅▅▅▅▅▄▃▄▄▃▃▃▃▃▂▂▂▂▂▂▂▂▂▁▁▁▁▁▁</td></tr><tr><td>epoch/accuracy</td><td>▁▃▅▅▆▇▇▇██</td></tr><tr><td>epoch/epoch</td><td>▁▂▃▃▄▅▆▆▇█</td></tr><tr><td>epoch/learning_rate</td><td>▁▁▁▁▁▁▁▁▁▁</td></tr><tr><td>epoch/loss</td><td>█▆▅▄▄▃▂▂▁▁</td></tr><tr><td>epoch/val_accuracy</td><td>▁▄▆▆█▆▆██▆</td></tr><tr><td>epoch/val_loss</td><td>█▆▅▅▄▃▃▂▁▁</td></tr></table><br/></div><div class=\"wandb-col\"><h3>Run summary:</h3><br/><table class=\"wandb\"><tr><td>batch/accuracy</td><td>0.53923</td></tr><tr><td>batch/batch_step</td><td>4145</td></tr><tr><td>batch/learning_rate</td><td>0.0001</td></tr><tr><td>batch/loss</td><td>2.39858</td></tr><tr><td>epoch/accuracy</td><td>0.53879</td></tr><tr><td>epoch/epoch</td><td>9</td></tr><tr><td>epoch/learning_rate</td><td>0.0001</td></tr><tr><td>epoch/loss</td><td>2.3982</td></tr><tr><td>epoch/val_accuracy</td><td>0.45946</td></tr><tr><td>epoch/val_loss</td><td>2.51279</td></tr></table><br/></div></div>"
            ]
          },
          "metadata": {}
        },
        {
          "output_type": "display_data",
          "data": {
            "text/plain": [
              "<IPython.core.display.HTML object>"
            ],
            "text/html": [
              " View run <strong style=\"color:#cdcd00\">absurd-sweep-3</strong> at: <a href='https://wandb.ai/pritkudale-vizuara/5-flowers-experiments/runs/wiity0xq' target=\"_blank\">https://wandb.ai/pritkudale-vizuara/5-flowers-experiments/runs/wiity0xq</a><br> View project at: <a href='https://wandb.ai/pritkudale-vizuara/5-flowers-experiments' target=\"_blank\">https://wandb.ai/pritkudale-vizuara/5-flowers-experiments</a><br>Synced 5 W&B file(s), 0 media file(s), 0 artifact file(s) and 0 other file(s)"
            ]
          },
          "metadata": {}
        },
        {
          "output_type": "display_data",
          "data": {
            "text/plain": [
              "<IPython.core.display.HTML object>"
            ],
            "text/html": [
              "Find logs at: <code>./wandb/run-20250423_044757-wiity0xq/logs</code>"
            ]
          },
          "metadata": {}
        },
        {
          "output_type": "stream",
          "name": "stderr",
          "text": [
            "\u001b[34m\u001b[1mwandb\u001b[0m: Sweep Agent: Waiting for job.\n",
            "\u001b[34m\u001b[1mwandb\u001b[0m: Sweep Agent: Exiting.\n"
          ]
        }
      ]
    }
  ]
}