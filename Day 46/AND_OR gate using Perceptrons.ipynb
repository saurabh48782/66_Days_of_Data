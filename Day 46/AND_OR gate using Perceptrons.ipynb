{
 "cells": [
  {
   "cell_type": "code",
   "execution_count": 1,
   "id": "6c68c2c2",
   "metadata": {},
   "outputs": [],
   "source": [
    "import pandas as pd\n",
    "import numpy as np\n",
    "from sklearn.linear_model import Perceptron"
   ]
  },
  {
   "cell_type": "code",
   "execution_count": 2,
   "id": "642b048b",
   "metadata": {},
   "outputs": [
    {
     "data": {
      "text/html": [
       "<div>\n",
       "<style scoped>\n",
       "    .dataframe tbody tr th:only-of-type {\n",
       "        vertical-align: middle;\n",
       "    }\n",
       "\n",
       "    .dataframe tbody tr th {\n",
       "        vertical-align: top;\n",
       "    }\n",
       "\n",
       "    .dataframe thead th {\n",
       "        text-align: right;\n",
       "    }\n",
       "</style>\n",
       "<table border=\"1\" class=\"dataframe\">\n",
       "  <thead>\n",
       "    <tr style=\"text-align: right;\">\n",
       "      <th></th>\n",
       "      <th>x1</th>\n",
       "      <th>x2</th>\n",
       "      <th>y_true</th>\n",
       "    </tr>\n",
       "  </thead>\n",
       "  <tbody>\n",
       "    <tr>\n",
       "      <th>0</th>\n",
       "      <td>0</td>\n",
       "      <td>0</td>\n",
       "      <td>0</td>\n",
       "    </tr>\n",
       "    <tr>\n",
       "      <th>1</th>\n",
       "      <td>0</td>\n",
       "      <td>1</td>\n",
       "      <td>0</td>\n",
       "    </tr>\n",
       "    <tr>\n",
       "      <th>2</th>\n",
       "      <td>1</td>\n",
       "      <td>0</td>\n",
       "      <td>0</td>\n",
       "    </tr>\n",
       "    <tr>\n",
       "      <th>3</th>\n",
       "      <td>1</td>\n",
       "      <td>1</td>\n",
       "      <td>1</td>\n",
       "    </tr>\n",
       "  </tbody>\n",
       "</table>\n",
       "</div>"
      ],
      "text/plain": [
       "   x1  x2  y_true\n",
       "0   0   0       0\n",
       "1   0   1       0\n",
       "2   1   0       0\n",
       "3   1   1       1"
      ]
     },
     "execution_count": 2,
     "metadata": {},
     "output_type": "execute_result"
    }
   ],
   "source": [
    "# The truth table of an AND gate is written as\n",
    "AND_data = pd.DataFrame({'x1':[0,0,1,1], 'x2':[0,1,0,1], 'y_true':[0,0,0,1]})\n",
    "AND_data"
   ]
  },
  {
   "cell_type": "code",
   "execution_count": 3,
   "id": "c821ec5d",
   "metadata": {},
   "outputs": [
    {
     "data": {
      "text/html": [
       "<div>\n",
       "<style scoped>\n",
       "    .dataframe tbody tr th:only-of-type {\n",
       "        vertical-align: middle;\n",
       "    }\n",
       "\n",
       "    .dataframe tbody tr th {\n",
       "        vertical-align: top;\n",
       "    }\n",
       "\n",
       "    .dataframe thead th {\n",
       "        text-align: right;\n",
       "    }\n",
       "</style>\n",
       "<table border=\"1\" class=\"dataframe\">\n",
       "  <thead>\n",
       "    <tr style=\"text-align: right;\">\n",
       "      <th></th>\n",
       "      <th>x1</th>\n",
       "      <th>x2</th>\n",
       "      <th>y_true</th>\n",
       "    </tr>\n",
       "  </thead>\n",
       "  <tbody>\n",
       "    <tr>\n",
       "      <th>0</th>\n",
       "      <td>0</td>\n",
       "      <td>0</td>\n",
       "      <td>0</td>\n",
       "    </tr>\n",
       "    <tr>\n",
       "      <th>1</th>\n",
       "      <td>0</td>\n",
       "      <td>1</td>\n",
       "      <td>1</td>\n",
       "    </tr>\n",
       "    <tr>\n",
       "      <th>2</th>\n",
       "      <td>1</td>\n",
       "      <td>0</td>\n",
       "      <td>1</td>\n",
       "    </tr>\n",
       "    <tr>\n",
       "      <th>3</th>\n",
       "      <td>1</td>\n",
       "      <td>1</td>\n",
       "      <td>1</td>\n",
       "    </tr>\n",
       "  </tbody>\n",
       "</table>\n",
       "</div>"
      ],
      "text/plain": [
       "   x1  x2  y_true\n",
       "0   0   0       0\n",
       "1   0   1       1\n",
       "2   1   0       1\n",
       "3   1   1       1"
      ]
     },
     "execution_count": 3,
     "metadata": {},
     "output_type": "execute_result"
    }
   ],
   "source": [
    "# The truth table of an OR gate is written as\n",
    "OR_data = pd.DataFrame({'x1':[0,0,1,1], 'x2':[0,1,0,1], 'y_true':[0,1,1,1]})\n",
    "OR_data"
   ]
  },
  {
   "cell_type": "markdown",
   "id": "39b6a372",
   "metadata": {},
   "source": [
    "Let's initialize all the weights with any random value, let's say:\n",
    "\n",
    "**w1 = 0.1, w2 = 0.1, b = 0.1, learning_rate (n) = 0.1**\n",
    "\n",
    "**z = w1x1 + w2x2 + b**\n",
    "\n",
    "**Activation function**:\n",
    "If z>0, then y_pred = 1\n",
    "If z<=0, then y_pred = 0"
   ]
  },
  {
   "cell_type": "markdown",
   "id": "f8f58fcf",
   "metadata": {},
   "source": [
    "### Finding the optimal values of w1, w2 and b for AND gate"
   ]
  },
  {
   "cell_type": "code",
   "execution_count": 4,
   "id": "0f6c13e2",
   "metadata": {},
   "outputs": [
    {
     "name": "stdout",
     "output_type": "stream",
     "text": [
      "Epoch 0: w1 = 0.2, w2 = 0.1, b = 0.0\n",
      "Epoch 1: w1 = 0.2, w2 = 0.1, b = -0.1\n",
      "Epoch 2: w1 = 0.2, w2 = 0.2, b = -0.1\n",
      "Epoch 3: w1 = 0.2, w2 = 0.1, b = -0.2\n",
      "Epoch 4: w1 = 0.2, w2 = 0.1, b = -0.2\n",
      "Training complete in 5 epochs.\n",
      "\n",
      "Final weights: w1 = 0.2, w2 = 0.1, b = -0.2\n"
     ]
    }
   ],
   "source": [
    "epochs = 100\n",
    "w1, w2, b, n = 0.1, 0.1, 0.1, 0.1  # Initialize weights, bias, and learning rate\n",
    "\n",
    "for i in range(epochs):\n",
    "    count = 0  # Counter for correctly classified examples\n",
    "    for index, row in AND_data.iterrows():\n",
    "        # Calculate weighted sum (z)\n",
    "        z = w1 * row['x1'] + w2 * row['x2'] + b\n",
    "        # Predicted output using activation function\n",
    "        y_pred = 1 if z > 0 else 0\n",
    "        error = row['y_true'] - y_pred\n",
    "        if error == 0:\n",
    "            count += 1\n",
    "            continue\n",
    "        else:\n",
    "            w1 = w1 + n * error * row['x1']\n",
    "            w2 = w2 + n * error * row['x2']\n",
    "            b = b + n * error\n",
    "    \n",
    "    # Print epoch details\n",
    "    print(f\"Epoch {i}: w1 = {w1}, w2 = {w2}, b = {b}\")\n",
    "    \n",
    "    # If all examples are classified correctly, stop the training\n",
    "    if count == len(AND_data):\n",
    "        print(f\"Training complete in {i+1} epochs.\")\n",
    "        break\n",
    "\n",
    "print(f\"\\nFinal weights: w1 = {w1}, w2 = {w2}, b = {b}\")\n"
   ]
  },
  {
   "cell_type": "markdown",
   "id": "201da4f5",
   "metadata": {},
   "source": [
    "### Finding the optimal values of w1, w2 and b for OR gate"
   ]
  },
  {
   "cell_type": "code",
   "execution_count": 5,
   "id": "bd1917fd",
   "metadata": {},
   "outputs": [
    {
     "name": "stdout",
     "output_type": "stream",
     "text": [
      "Epoch 0: w1 = 0.1, w2 = 0.1, b = 0.0\n",
      "Epoch 1: w1 = 0.1, w2 = 0.1, b = 0.0\n",
      "Training complete in 2 epochs.\n",
      "\n",
      "Final weights: w1 = 0.1, w2 = 0.1, b = 0.0\n"
     ]
    }
   ],
   "source": [
    "epochs = 100\n",
    "w1, w2, b, n = 0.1, 0.1, 0.1, 0.1  # Initialize weights, bias, and learning rate\n",
    "\n",
    "for i in range(epochs):\n",
    "    count = 0  # Counter for correctly classified examples\n",
    "    for index, row in OR_data.iterrows():\n",
    "        # Calculate weighted sum (z)\n",
    "        z = w1 * row['x1'] + w2 * row['x2'] + b\n",
    "        # Predicted output using activation function\n",
    "        y_pred = 1 if z > 0 else 0\n",
    "        error = row['y_true'] - y_pred\n",
    "        if error == 0:\n",
    "            count += 1\n",
    "            continue\n",
    "        else:\n",
    "            w1 = w1 + n * error * row['x1']\n",
    "            w2 = w2 + n * error * row['x2']\n",
    "            b = b + n * error\n",
    "    \n",
    "    # Print epoch details\n",
    "    print(f\"Epoch {i}: w1 = {w1}, w2 = {w2}, b = {b}\")\n",
    "    \n",
    "    # If all examples are classified correctly, stop the training\n",
    "    if count == len(OR_data):\n",
    "        print(f\"Training complete in {i+1} epochs.\")\n",
    "        break\n",
    "\n",
    "print(f\"\\nFinal weights: w1 = {w1}, w2 = {w2}, b = {b}\")\n"
   ]
  },
  {
   "cell_type": "markdown",
   "id": "b1b9e31f",
   "metadata": {},
   "source": [
    "### Using the Perceptron module available in SKlearn to find optmial values of weights and biases"
   ]
  },
  {
   "cell_type": "markdown",
   "id": "3940d126",
   "metadata": {},
   "source": [
    "### 1. For AND data"
   ]
  },
  {
   "cell_type": "code",
   "execution_count": 6,
   "id": "6ebe9ff2",
   "metadata": {},
   "outputs": [
    {
     "name": "stdout",
     "output_type": "stream",
     "text": [
      "\n",
      "Final weights: w1 = 0.2, w2 = 0.1, b = -0.20000000000000004\n"
     ]
    }
   ],
   "source": [
    "perceptron_obj = Perceptron(eta0=0.1)\n",
    "perceptron_obj.fit(AND_data.iloc[:, :2], AND_data.iloc[:,-1] )\n",
    "print(f\"\\nFinal weights: w1 = {perceptron_obj.coef_[0][0]}, w2 = {perceptron_obj.coef_[0][1]}, b = {perceptron_obj.intercept_[0]}\")"
   ]
  },
  {
   "cell_type": "code",
   "execution_count": 7,
   "id": "945d02cd",
   "metadata": {},
   "outputs": [
    {
     "data": {
      "text/plain": [
       "1.0"
      ]
     },
     "execution_count": 7,
     "metadata": {},
     "output_type": "execute_result"
    }
   ],
   "source": [
    "# Performance on AND data\n",
    "perceptron_obj.score(AND_data.iloc[:, :2], AND_data.iloc[:,-1])"
   ]
  },
  {
   "cell_type": "markdown",
   "id": "a044248b",
   "metadata": {},
   "source": [
    "### 2. For OR data"
   ]
  },
  {
   "cell_type": "code",
   "execution_count": 8,
   "id": "17097168",
   "metadata": {},
   "outputs": [
    {
     "name": "stdout",
     "output_type": "stream",
     "text": [
      "\n",
      "Final weights: w1 = 0.2, w2 = 0.2, b = -0.1\n"
     ]
    }
   ],
   "source": [
    "perceptron_obj2 = Perceptron(eta0=0.1)\n",
    "perceptron_obj2.fit(OR_data.iloc[:, :2], OR_data.iloc[:,-1])\n",
    "print(f\"\\nFinal weights: w1 = {perceptron_obj2.coef_[0][0]}, w2 = {perceptron_obj2.coef_[0][1]}, b = {perceptron_obj2.intercept_[0]}\")"
   ]
  },
  {
   "cell_type": "code",
   "execution_count": 9,
   "id": "3698ee8d",
   "metadata": {},
   "outputs": [
    {
     "data": {
      "text/plain": [
       "1.0"
      ]
     },
     "execution_count": 9,
     "metadata": {},
     "output_type": "execute_result"
    }
   ],
   "source": [
    "# Performance on OR data\n",
    "perceptron_obj2.score(OR_data.iloc[:, :2], OR_data.iloc[:,-1])"
   ]
  },
  {
   "cell_type": "markdown",
   "id": "bf99118a",
   "metadata": {},
   "source": [
    "### 3. For XOR data"
   ]
  },
  {
   "cell_type": "code",
   "execution_count": 10,
   "id": "5470d748",
   "metadata": {},
   "outputs": [
    {
     "data": {
      "text/html": [
       "<div>\n",
       "<style scoped>\n",
       "    .dataframe tbody tr th:only-of-type {\n",
       "        vertical-align: middle;\n",
       "    }\n",
       "\n",
       "    .dataframe tbody tr th {\n",
       "        vertical-align: top;\n",
       "    }\n",
       "\n",
       "    .dataframe thead th {\n",
       "        text-align: right;\n",
       "    }\n",
       "</style>\n",
       "<table border=\"1\" class=\"dataframe\">\n",
       "  <thead>\n",
       "    <tr style=\"text-align: right;\">\n",
       "      <th></th>\n",
       "      <th>x1</th>\n",
       "      <th>x2</th>\n",
       "      <th>y_true</th>\n",
       "    </tr>\n",
       "  </thead>\n",
       "  <tbody>\n",
       "    <tr>\n",
       "      <th>0</th>\n",
       "      <td>0</td>\n",
       "      <td>0</td>\n",
       "      <td>0</td>\n",
       "    </tr>\n",
       "    <tr>\n",
       "      <th>1</th>\n",
       "      <td>0</td>\n",
       "      <td>1</td>\n",
       "      <td>1</td>\n",
       "    </tr>\n",
       "    <tr>\n",
       "      <th>2</th>\n",
       "      <td>1</td>\n",
       "      <td>0</td>\n",
       "      <td>1</td>\n",
       "    </tr>\n",
       "    <tr>\n",
       "      <th>3</th>\n",
       "      <td>1</td>\n",
       "      <td>1</td>\n",
       "      <td>0</td>\n",
       "    </tr>\n",
       "  </tbody>\n",
       "</table>\n",
       "</div>"
      ],
      "text/plain": [
       "   x1  x2  y_true\n",
       "0   0   0       0\n",
       "1   0   1       1\n",
       "2   1   0       1\n",
       "3   1   1       0"
      ]
     },
     "execution_count": 10,
     "metadata": {},
     "output_type": "execute_result"
    }
   ],
   "source": [
    "XOR_data = pd.DataFrame({'x1':[0,0,1,1], 'x2':[0,1,0,1], 'y_true':[0,1,1,0]})\n",
    "XOR_data"
   ]
  },
  {
   "cell_type": "code",
   "execution_count": 11,
   "id": "1b5ad60b",
   "metadata": {},
   "outputs": [
    {
     "name": "stdout",
     "output_type": "stream",
     "text": [
      "\n",
      "Final weights: w1 = 0.0, w2 = 0.0, b = 0.0\n"
     ]
    }
   ],
   "source": [
    "perceptron_obj3 = Perceptron(eta0=0.1)\n",
    "perceptron_obj3.fit(XOR_data.iloc[:, :2], XOR_data.iloc[:,-1] )\n",
    "print(f\"\\nFinal weights: w1 = {perceptron_obj3.coef_[0][0]}, w2 = {perceptron_obj3.coef_[0][1]}, b = {perceptron_obj3.intercept_[0]}\")"
   ]
  },
  {
   "cell_type": "code",
   "execution_count": 12,
   "id": "ae04bbca",
   "metadata": {},
   "outputs": [
    {
     "data": {
      "text/plain": [
       "0.5"
      ]
     },
     "execution_count": 12,
     "metadata": {},
     "output_type": "execute_result"
    }
   ],
   "source": [
    "# Performance on XOR data\n",
    "perceptron_obj3.score(XOR_data.iloc[:, :2], XOR_data.iloc[:,-1])"
   ]
  },
  {
   "cell_type": "markdown",
   "id": "6da02073",
   "metadata": {},
   "source": [
    "We can confirm on XOR data, the score is only 0.5, this means perceptron is not ably to classify the XOR data accurately as it is non-linear in nature."
   ]
  },
  {
   "cell_type": "code",
   "execution_count": null,
   "id": "61d0ee6c",
   "metadata": {},
   "outputs": [],
   "source": []
  },
  {
   "cell_type": "code",
   "execution_count": null,
   "id": "0488b3ea",
   "metadata": {},
   "outputs": [],
   "source": []
  },
  {
   "cell_type": "code",
   "execution_count": null,
   "id": "2ed06499",
   "metadata": {},
   "outputs": [],
   "source": []
  },
  {
   "cell_type": "code",
   "execution_count": null,
   "id": "aed3209d",
   "metadata": {},
   "outputs": [],
   "source": []
  }
 ],
 "metadata": {
  "kernelspec": {
   "display_name": "Python 3 (ipykernel)",
   "language": "python",
   "name": "python3"
  },
  "language_info": {
   "codemirror_mode": {
    "name": "ipython",
    "version": 3
   },
   "file_extension": ".py",
   "mimetype": "text/x-python",
   "name": "python",
   "nbconvert_exporter": "python",
   "pygments_lexer": "ipython3",
   "version": "3.10.9"
  }
 },
 "nbformat": 4,
 "nbformat_minor": 5
}
